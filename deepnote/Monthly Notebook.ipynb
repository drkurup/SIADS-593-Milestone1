{
  "cells": [
    {
      "cell_type": "markdown",
      "source": "",
      "metadata": {
        "formattedRanges": [],
        "cell_id": "145ac039e135442e888714c4736cfccd",
        "deepnote_cell_type": "text-cell-p"
      },
      "block_group": "788f205a88224be09eafa13df86e6271"
    },
    {
      "cell_type": "code",
      "source": "import pandas as pd\nimport altair as alt\nimport os",
      "metadata": {
        "source_hash": "446103af",
        "execution_start": 1716657135579,
        "execution_millis": 123,
        "deepnote_to_be_reexecuted": false,
        "cell_id": "157eac60bd5e42aeb5674428e9badc4d",
        "deepnote_cell_type": "code"
      },
      "outputs": [],
      "outputs_reference": null,
      "execution_count": 2,
      "block_group": "0b01a31a81c74e278cf69304bc13c557",
      "content_dependencies": null
    },
    {
      "cell_type": "code",
      "source": "#Import CTA Ridership Monthly CSV File\nmonthly_ridership_df = pd.read_csv(\"SIADS_593_Milestone1/assets/CTARidershipMonthly_20240521.csv\")\n\nmonthly_ridership_df.head()",
      "metadata": {
        "source_hash": "7979e6c0",
        "execution_start": 1716660832425,
        "execution_millis": 130,
        "deepnote_to_be_reexecuted": false,
        "cell_id": "04925cd9d6f2496883b17c6637c8d1b9",
        "deepnote_cell_type": "code"
      },
      "outputs": [
        {
          "output_type": "execute_result",
          "execution_count": 20,
          "data": {
            "application/vnd.deepnote.dataframe.v3+json": {
              "column_count": 7,
              "row_count": 5,
              "columns": [
                {
                  "name": "station_id",
                  "dtype": "int64",
                  "stats": {
                    "unique_count": 5,
                    "nan_count": 0,
                    "min": "40100",
                    "max": "41300",
                    "histogram": [
                      {
                        "bin_start": 40100,
                        "bin_end": 40220,
                        "count": 1
                      },
                      {
                        "bin_start": 40220,
                        "bin_end": 40340,
                        "count": 0
                      },
                      {
                        "bin_start": 40340,
                        "bin_end": 40460,
                        "count": 0
                      },
                      {
                        "bin_start": 40460,
                        "bin_end": 40580,
                        "count": 0
                      },
                      {
                        "bin_start": 40580,
                        "bin_end": 40700,
                        "count": 0
                      },
                      {
                        "bin_start": 40700,
                        "bin_end": 40820,
                        "count": 1
                      },
                      {
                        "bin_start": 40820,
                        "bin_end": 40940,
                        "count": 1
                      },
                      {
                        "bin_start": 40940,
                        "bin_end": 41060,
                        "count": 0
                      },
                      {
                        "bin_start": 41060,
                        "bin_end": 41180,
                        "count": 0
                      },
                      {
                        "bin_start": 41180,
                        "bin_end": 41300,
                        "count": 2
                      }
                    ]
                  }
                },
                {
                  "name": "stationame",
                  "dtype": "object",
                  "stats": {
                    "unique_count": 5,
                    "nan_count": 0,
                    "categories": [
                      {
                        "name": "Howard",
                        "count": 1
                      },
                      {
                        "name": "Jarvis",
                        "count": 1
                      },
                      {
                        "name": "3 others",
                        "count": 3
                      }
                    ]
                  }
                },
                {
                  "name": "month_beginning",
                  "dtype": "object",
                  "stats": {
                    "unique_count": 1,
                    "nan_count": 0,
                    "categories": [
                      {
                        "name": "01/01/2001",
                        "count": 5
                      }
                    ]
                  }
                },
                {
                  "name": "avg_weekday_rides",
                  "dtype": "float64",
                  "stats": {
                    "unique_count": 5,
                    "nan_count": 0,
                    "min": "1489.1",
                    "max": "6233.9",
                    "histogram": [
                      {
                        "bin_start": 1489.1,
                        "bin_end": 1963.58,
                        "count": 1
                      },
                      {
                        "bin_start": 1963.58,
                        "bin_end": 2438.0599999999995,
                        "count": 0
                      },
                      {
                        "bin_start": 2438.0599999999995,
                        "bin_end": 2912.5399999999995,
                        "count": 0
                      },
                      {
                        "bin_start": 2912.5399999999995,
                        "bin_end": 3387.0199999999995,
                        "count": 1
                      },
                      {
                        "bin_start": 3387.0199999999995,
                        "bin_end": 3861.4999999999995,
                        "count": 0
                      },
                      {
                        "bin_start": 3861.4999999999995,
                        "bin_end": 4335.98,
                        "count": 0
                      },
                      {
                        "bin_start": 4335.98,
                        "bin_end": 4810.459999999999,
                        "count": 2
                      },
                      {
                        "bin_start": 4810.459999999999,
                        "bin_end": 5284.939999999999,
                        "count": 0
                      },
                      {
                        "bin_start": 5284.939999999999,
                        "bin_end": 5759.419999999998,
                        "count": 0
                      },
                      {
                        "bin_start": 5759.419999999998,
                        "bin_end": 6233.9,
                        "count": 1
                      }
                    ]
                  }
                },
                {
                  "name": "avg_saturday_rides",
                  "dtype": "float64",
                  "stats": {
                    "unique_count": 5,
                    "nan_count": 0,
                    "min": "1054.0",
                    "max": "3814.5",
                    "histogram": [
                      {
                        "bin_start": 1054,
                        "bin_end": 1330.05,
                        "count": 1
                      },
                      {
                        "bin_start": 1330.05,
                        "bin_end": 1606.1,
                        "count": 0
                      },
                      {
                        "bin_start": 1606.1,
                        "bin_end": 1882.15,
                        "count": 0
                      },
                      {
                        "bin_start": 1882.15,
                        "bin_end": 2158.2,
                        "count": 1
                      },
                      {
                        "bin_start": 2158.2,
                        "bin_end": 2434.25,
                        "count": 0
                      },
                      {
                        "bin_start": 2434.25,
                        "bin_end": 2710.3,
                        "count": 0
                      },
                      {
                        "bin_start": 2710.3,
                        "bin_end": 2986.3500000000004,
                        "count": 0
                      },
                      {
                        "bin_start": 2986.3500000000004,
                        "bin_end": 3262.4,
                        "count": 2
                      },
                      {
                        "bin_start": 3262.4,
                        "bin_end": 3538.4500000000003,
                        "count": 0
                      },
                      {
                        "bin_start": 3538.4500000000003,
                        "bin_end": 3814.5,
                        "count": 1
                      }
                    ]
                  }
                },
                {
                  "name": "avg_sunday-holiday_rides",
                  "dtype": "float64",
                  "stats": {
                    "unique_count": 5,
                    "nan_count": 0,
                    "min": "718.0",
                    "max": "2408.6",
                    "histogram": [
                      {
                        "bin_start": 718,
                        "bin_end": 887.06,
                        "count": 1
                      },
                      {
                        "bin_start": 887.06,
                        "bin_end": 1056.12,
                        "count": 0
                      },
                      {
                        "bin_start": 1056.12,
                        "bin_end": 1225.18,
                        "count": 0
                      },
                      {
                        "bin_start": 1225.18,
                        "bin_end": 1394.24,
                        "count": 0
                      },
                      {
                        "bin_start": 1394.24,
                        "bin_end": 1563.3,
                        "count": 1
                      },
                      {
                        "bin_start": 1563.3,
                        "bin_end": 1732.3600000000001,
                        "count": 0
                      },
                      {
                        "bin_start": 1732.3600000000001,
                        "bin_end": 1901.42,
                        "count": 0
                      },
                      {
                        "bin_start": 1901.42,
                        "bin_end": 2070.48,
                        "count": 1
                      },
                      {
                        "bin_start": 2070.48,
                        "bin_end": 2239.54,
                        "count": 1
                      },
                      {
                        "bin_start": 2239.54,
                        "bin_end": 2408.6,
                        "count": 1
                      }
                    ]
                  }
                },
                {
                  "name": "monthtotal",
                  "dtype": "int64",
                  "stats": {
                    "unique_count": 5,
                    "nan_count": 0,
                    "min": "40567",
                    "max": "164447",
                    "histogram": [
                      {
                        "bin_start": 40567,
                        "bin_end": 52955,
                        "count": 1
                      },
                      {
                        "bin_start": 52955,
                        "bin_end": 65343,
                        "count": 0
                      },
                      {
                        "bin_start": 65343,
                        "bin_end": 77731,
                        "count": 0
                      },
                      {
                        "bin_start": 77731,
                        "bin_end": 90119,
                        "count": 1
                      },
                      {
                        "bin_start": 90119,
                        "bin_end": 102507,
                        "count": 0
                      },
                      {
                        "bin_start": 102507,
                        "bin_end": 114895,
                        "count": 0
                      },
                      {
                        "bin_start": 114895,
                        "bin_end": 127283,
                        "count": 2
                      },
                      {
                        "bin_start": 127283,
                        "bin_end": 139671,
                        "count": 0
                      },
                      {
                        "bin_start": 139671,
                        "bin_end": 152059,
                        "count": 0
                      },
                      {
                        "bin_start": 152059,
                        "bin_end": 164447,
                        "count": 1
                      }
                    ]
                  }
                },
                {
                  "name": "_deepnote_index_column",
                  "dtype": "int64"
                }
              ],
              "rows": [
                {
                  "station_id": 40900,
                  "stationame": "Howard",
                  "month_beginning": "01/01/2001",
                  "avg_weekday_rides": 6233.9,
                  "avg_saturday_rides": 3814.5,
                  "avg_sunday-holiday_rides": 2408.6,
                  "monthtotal": 164447,
                  "_deepnote_index_column": 0
                },
                {
                  "station_id": 41190,
                  "stationame": "Jarvis",
                  "month_beginning": "01/01/2001",
                  "avg_weekday_rides": 1489.1,
                  "avg_saturday_rides": 1054,
                  "avg_sunday-holiday_rides": 718,
                  "monthtotal": 40567,
                  "_deepnote_index_column": 1
                },
                {
                  "station_id": 40100,
                  "stationame": "Morse",
                  "month_beginning": "01/01/2001",
                  "avg_weekday_rides": 4412.5,
                  "avg_saturday_rides": 3064.5,
                  "avg_sunday-holiday_rides": 2087.8,
                  "monthtotal": 119772,
                  "_deepnote_index_column": 2
                },
                {
                  "station_id": 41300,
                  "stationame": "Loyola",
                  "month_beginning": "01/01/2001",
                  "avg_weekday_rides": 4664.5,
                  "avg_saturday_rides": 3156,
                  "avg_sunday-holiday_rides": 1952.8,
                  "monthtotal": 125008,
                  "_deepnote_index_column": 3
                },
                {
                  "station_id": 40760,
                  "stationame": "Granville",
                  "month_beginning": "01/01/2001",
                  "avg_weekday_rides": 3109.8,
                  "avg_saturday_rides": 2126,
                  "avg_sunday-holiday_rides": 1453.8,
                  "monthtotal": 84189,
                  "_deepnote_index_column": 4
                }
              ]
            },
            "text/plain": "   station_id stationame month_beginning  avg_weekday_rides  \\\n0       40900     Howard      01/01/2001             6233.9   \n1       41190     Jarvis      01/01/2001             1489.1   \n2       40100      Morse      01/01/2001             4412.5   \n3       41300     Loyola      01/01/2001             4664.5   \n4       40760  Granville      01/01/2001             3109.8   \n\n   avg_saturday_rides  avg_sunday-holiday_rides  monthtotal  \n0              3814.5                    2408.6      164447  \n1              1054.0                     718.0       40567  \n2              3064.5                    2087.8      119772  \n3              3156.0                    1952.8      125008  \n4              2126.0                    1453.8       84189  ",
            "text/html": "<div>\n<style scoped>\n    .dataframe tbody tr th:only-of-type {\n        vertical-align: middle;\n    }\n\n    .dataframe tbody tr th {\n        vertical-align: top;\n    }\n\n    .dataframe thead th {\n        text-align: right;\n    }\n</style>\n<table border=\"1\" class=\"dataframe\">\n  <thead>\n    <tr style=\"text-align: right;\">\n      <th></th>\n      <th>station_id</th>\n      <th>stationame</th>\n      <th>month_beginning</th>\n      <th>avg_weekday_rides</th>\n      <th>avg_saturday_rides</th>\n      <th>avg_sunday-holiday_rides</th>\n      <th>monthtotal</th>\n    </tr>\n  </thead>\n  <tbody>\n    <tr>\n      <th>0</th>\n      <td>40900</td>\n      <td>Howard</td>\n      <td>01/01/2001</td>\n      <td>6233.9</td>\n      <td>3814.5</td>\n      <td>2408.6</td>\n      <td>164447</td>\n    </tr>\n    <tr>\n      <th>1</th>\n      <td>41190</td>\n      <td>Jarvis</td>\n      <td>01/01/2001</td>\n      <td>1489.1</td>\n      <td>1054.0</td>\n      <td>718.0</td>\n      <td>40567</td>\n    </tr>\n    <tr>\n      <th>2</th>\n      <td>40100</td>\n      <td>Morse</td>\n      <td>01/01/2001</td>\n      <td>4412.5</td>\n      <td>3064.5</td>\n      <td>2087.8</td>\n      <td>119772</td>\n    </tr>\n    <tr>\n      <th>3</th>\n      <td>41300</td>\n      <td>Loyola</td>\n      <td>01/01/2001</td>\n      <td>4664.5</td>\n      <td>3156.0</td>\n      <td>1952.8</td>\n      <td>125008</td>\n    </tr>\n    <tr>\n      <th>4</th>\n      <td>40760</td>\n      <td>Granville</td>\n      <td>01/01/2001</td>\n      <td>3109.8</td>\n      <td>2126.0</td>\n      <td>1453.8</td>\n      <td>84189</td>\n    </tr>\n  </tbody>\n</table>\n</div>"
          },
          "metadata": {}
        }
      ],
      "outputs_reference": null,
      "execution_count": 20,
      "block_group": "1f2339e5334e400fbad20ba03fe28225",
      "content_dependencies": null
    },
    {
      "cell_type": "code",
      "source": "#All Columns\nmonthly_ridership_df_column = monthly_ridership_df.columns",
      "metadata": {
        "cell_id": "161d7f96cc8345628cc2dcbac839f500",
        "deepnote_cell_type": "code"
      },
      "outputs": [],
      "outputs_reference": null,
      "execution_count": null,
      "block_group": "70bb7ded21ed4d1e86ce10ab1803ada7",
      "content_dependencies": null
    },
    {
      "cell_type": "code",
      "source": "#Is there any missing data in any columns?",
      "metadata": {
        "cell_id": "3b4a2e74a5774e189616c236d17fe8d9",
        "deepnote_cell_type": "code"
      },
      "outputs": [],
      "outputs_reference": null,
      "execution_count": null,
      "block_group": "6d6affcbc83c4551a80a96a0beb08a0c",
      "content_dependencies": null
    },
    {
      "cell_type": "code",
      "source": "#Pull Secondary Dataset\n#Pull Population by Zip Code for 2000, 2010, and 2020 from Census",
      "metadata": {
        "cell_id": "2b2d3e7f635f426d81bf1c015c46d273",
        "deepnote_cell_type": "code"
      },
      "outputs": [],
      "outputs_reference": null,
      "execution_count": null,
      "block_group": "886f6a24c4b04fe89a0fc8c3ad286071",
      "content_dependencies": null
    },
    {
      "cell_type": "code",
      "source": "#For Secondary Dataset, look for any missing any data for population and zip code",
      "metadata": {
        "cell_id": "2db7ee62d33a4f669905495f77384d4f",
        "deepnote_cell_type": "code"
      },
      "outputs": [],
      "outputs_reference": null,
      "execution_count": null,
      "block_group": "4b54b63748bd4a65835503098de35226",
      "content_dependencies": null
    },
    {
      "cell_type": "code",
      "source": "#Pull Tiertiary Data\n#Pull L Station information dataset ",
      "metadata": {
        "cell_id": "4c3d1480558f40eb8dfe5e2f8fc8bf18",
        "deepnote_cell_type": "code"
      },
      "outputs": [],
      "outputs_reference": null,
      "execution_count": null,
      "block_group": "6625c62b9b854e019f4acd4c8dec146c",
      "content_dependencies": null
    },
    {
      "cell_type": "code",
      "source": "#Check for missing data in station information",
      "metadata": {
        "cell_id": "c79e7ab58a744607a2ccb543a299a9a3",
        "deepnote_cell_type": "code"
      },
      "outputs": [],
      "outputs_reference": null,
      "execution_count": null,
      "block_group": "69e25e3ecba8426c988b909dfc1c888a",
      "content_dependencies": null
    },
    {
      "cell_type": "code",
      "source": "#Join Primary & Tertiary Dataset on Station_Name. \n#Call this dataframe ridership_station_df",
      "metadata": {
        "cell_id": "28b8a5f631604e4b9fbe7c5213b290c5",
        "deepnote_cell_type": "code"
      },
      "outputs": [],
      "outputs_reference": null,
      "execution_count": null,
      "block_group": "91c954658ce54d4b8097385637d72eb1",
      "content_dependencies": null
    },
    {
      "cell_type": "code",
      "source": "#Create new dataframe ridership_station_zip_df",
      "metadata": {
        "cell_id": "1530198ea8664f299db1bb3eec232273",
        "deepnote_cell_type": "code"
      },
      "outputs": [],
      "outputs_reference": null,
      "execution_count": null,
      "block_group": "8a4c9252d93848a0a88d690e0cf22fd7",
      "content_dependencies": null
    },
    {
      "cell_type": "code",
      "source": "#Create function that identifies zip code using Lat/Long information\n#Utilize uszipcode library to determine zip",
      "metadata": {
        "cell_id": "8305f54130004028b4c9878c43442243",
        "deepnote_cell_type": "code"
      },
      "outputs": [],
      "outputs_reference": null,
      "execution_count": null,
      "block_group": "6c8e156d31014c3bb418b37a45f1601c",
      "content_dependencies": null
    },
    {
      "cell_type": "code",
      "source": "#Use Zip Code function to create and populate zip code column in ridership_station_zip_df",
      "metadata": {
        "cell_id": "feac4ae55aea4424909a3f26ef11e04a",
        "deepnote_cell_type": "code"
      },
      "outputs": [],
      "outputs_reference": null,
      "execution_count": null,
      "block_group": "291a791de99f456f86927e5573af92e0",
      "content_dependencies": null
    },
    {
      "cell_type": "code",
      "source": "#Create new dataframe ridership_station_pop_df\n#Join ridership_station_zip_df with population on zip code in this new dataframe",
      "metadata": {
        "cell_id": "f5e88b11478048d6a93a15e80260860d",
        "deepnote_cell_type": "code"
      },
      "outputs": [],
      "outputs_reference": null,
      "execution_count": null,
      "block_group": "b50c70fd41c54822b52c865deaa4087c",
      "content_dependencies": null
    },
    {
      "cell_type": "markdown",
      "source": "<a style='text-decoration:none;line-height:16px;display:flex;color:#5B5B62;padding:10px;justify-content:end;' href='https://deepnote.com?utm_source=created-in-deepnote-cell&projectId=7862ac62-05ae-412f-9bc1-59d586e87203' target=\"_blank\">\n<img alt='Created in deepnote.com' style='display:inline;max-height:16px;margin:0px;margin-right:7.5px;' src='data:image/svg+xml;base64,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' > </img>\nCreated in <span style='font-weight:600;margin-left:4px;'>Deepnote</span></a>",
      "metadata": {
        "created_in_deepnote_cell": true,
        "deepnote_cell_type": "markdown"
      }
    }
  ],
  "nbformat": 4,
  "nbformat_minor": 0,
  "metadata": {
    "deepnote_persisted_session": {
      "createdAt": "2024-05-21T13:15:43.726Z"
    },
    "deepnote_notebook_id": "4876d2c7dc394feca020af762832bff3",
    "deepnote_execution_queue": []
  }
}